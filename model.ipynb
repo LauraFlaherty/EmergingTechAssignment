{
 "cells": [
  {
   "cell_type": "markdown",
   "metadata": {},
   "source": [
    "# Laura Flaherty - G00348586"
   ]
  },
  {
   "cell_type": "markdown",
   "metadata": {},
   "source": [
    "<H3>Create, document, and train a model that recognises hand-written digits using the MNIST dataset </H3>"
   ]
  },
  {
   "cell_type": "code",
   "execution_count": 31,
   "metadata": {},
   "outputs": [
    {
     "name": "stdout",
     "output_type": "stream",
     "text": [
      "1.13.1\n",
      "import tensorflow and MNIST dataset under the Keras API.\n"
     ]
    }
   ],
   "source": [
    "import tensorflow as tf\n",
    "print(tf.__version__)\n",
    "## the data, split between train and test sets\n",
    "(x_train, y_train), (x_test, y_test) = tf.keras.datasets.mnist.load_data()\n",
    "print('import tensorflow and MNIST dataset under the Keras API.')"
   ]
  },
  {
   "cell_type": "markdown",
   "metadata": {},
   "source": [
    "<h4>input image dimensions </h4>"
   ]
  },
  {
   "cell_type": "code",
   "execution_count": 32,
   "metadata": {},
   "outputs": [],
   "source": [
    "img_rows, img_cols = 28, 28"
   ]
  },
  {
   "cell_type": "markdown",
   "metadata": {},
   "source": [
    "<h3> Plot a single image from the index of images and label it correctly</h3>\n",
    "<p>Note that matplotlib may not always work </p>"
   ]
  },
  {
   "cell_type": "code",
   "execution_count": 33,
   "metadata": {},
   "outputs": [
    {
     "name": "stdout",
     "output_type": "stream",
     "text": [
      "5\n"
     ]
    },
    {
     "data": {
      "text/plain": [
       "<matplotlib.image.AxesImage at 0x184ea9d2848>"
      ]
     },
     "execution_count": 33,
     "metadata": {},
     "output_type": "execute_result"
    },
    {
     "data": {
      "image/png": "[encoded data removed]",
      "text/plain": [
       "<Figure size 432x288 with 1 Axes>"
      ]
     },
     "metadata": {
      "needs_background": "light"
     },
     "output_type": "display_data"
    }
   ],
   "source": [
    "import matplotlib.pyplot as plt\n",
    "image_index = 40347 \n",
    "print(y_train[image_index]) # The label is 5\n",
    "plt.imshow(x_train[image_index], cmap='Greys')"
   ]
  },
  {
   "cell_type": "markdown",
   "metadata": {},
   "source": [
    "<h3>Looks at the shape of the dataset</h3>\n",
    "<p>This shows that there are 60,000 samples in the training set. The images are 28 x 28 px</p>"
   ]
  },
  {
   "cell_type": "code",
   "execution_count": 34,
   "metadata": {},
   "outputs": [
    {
     "data": {
      "text/plain": [
       "(60000, 28, 28)"
      ]
     },
     "execution_count": 34,
     "metadata": {},
     "output_type": "execute_result"
    }
   ],
   "source": [
    "x_train.shape"
   ]
  },
  {
   "cell_type": "markdown",
   "metadata": {},
   "source": [
    "<h3>Prepocessing </h3>\n",
    "    <ul>\n",
    "        <li>Transform the dataset from having shape (n, width, height) to (n, depth, width, height)</li>\n",
    "        <li>Convert the data type to float32</li>\n",
    "        <li> normalize the RGB codes by dividing it it the max RGB value</li>\n",
    "    </ul>"
   ]
  },
  {
   "cell_type": "code",
   "execution_count": 35,
   "metadata": {},
   "outputs": [
    {
     "name": "stdout",
     "output_type": "stream",
     "text": [
      "x_train shape: (60000, 28, 28, 1)\n",
      "Number of images in x_train 60000\n",
      "Number of images in x_test 10000\n"
     ]
    }
   ],
   "source": [
    "# Reshaping the array to 4-dims so that it can work with the Keras API\n",
    "x_train = x_train.reshape(x_train.shape[0], 28, 28, 1)\n",
    "x_test = x_test.reshape(x_test.shape[0], 28, 28, 1)\n",
    "input_shape = (28, 28, 1)\n",
    "# Making sure that the values are float so that we can get decimal points after division\n",
    "x_train = x_train.astype('float32')\n",
    "x_test = x_test.astype('float32')\n",
    "# Normalizing the RGB codes by dividing it to the max RGB value.\n",
    "x_train /= 255\n",
    "x_test /= 255\n",
    "print('x_train shape:', x_train.shape)\n",
    "print('Number of images in x_train', x_train.shape[0])\n",
    "print('Number of images in x_test', x_test.shape[0])"
   ]
  },
  {
   "cell_type": "markdown",
   "metadata": {},
   "source": [
    "<H2>The Model </H2>\n",
    "<h3>The Imports </h3>\n",
    "<ul>\n",
    "    <li> <b>Sequential</b> - a linear stack of neural network layers </li>\n",
    "    <li> <b>Layers</b> - core layers that are used in almost any neural network</li> <p>(Conv2D, Maxpooling 2D are convolutional layers that will help us efficiently train on image data)</p>\n",
    "</ul>\n",
    "<h3>Creating the Sequential Model and adding layers</h3>\n",
    "<ul>\n",
    "    <li><b>Conv2D </b> - spatial convolution over images</li>\n",
    "    <p>This layer creates a convolution kernel that is convolved with the layer input to produce a tensor of outputs</p>\n",
    "    <br>\n",
    "    <li><b>MaxPooling2D</b> - Max pooling operation for spatial data.</li>\n",
    "    <p>The objective is to down-sample an input representation (image, hidden-layer output matrix, etc.), reducing its dimensionality and allowing for assumptions to be made about features contained in the sub-regions binned. Link to reference <a href=\"https://www.quora.com/What-is-max-pooling-in-convolutional-neural-networks\">here</a></p>\n",
    "    <br>\n",
    "    <li><b>Flatten</b> - reshapes the tensor to have the shape that is equal to the number of elements contained in tensor non including the batch dimension. </li>\n",
    "    <br>\n",
    "    <li><b>Dense</b> - represents a matrix vector multiplication. Just your regular densely-connected Neural Network layer.</li>\n",
    "    <p>128 is the number of samples that going to be propagated through the network at each epoch</p>\n",
    "     <br>\n",
    "    <li><b>Dropout</b> layers provide a simple way to avoid overfitting by randomly dropping components of neural network (outputs) from a layer of neural network.\n",
    "     <p>This results in a scenario where at each layer more neurons are forced to learn the multiple characteristics of the neural network. The last layer of the neural network will have number of node equal to the number of output class i.e. 10 and the activation function we will be using is softmax</p>\n",
    "</ul>\n",
    "    \n",
    "    \n",
    " "
   ]
  },
  {
   "cell_type": "code",
   "execution_count": 36,
   "metadata": {},
   "outputs": [],
   "source": [
    "# Importing the required Keras modules containing model and layers\n",
    "from keras.models import Sequential\n",
    "from keras.layers import Dense, Conv2D, Dropout, Flatten, MaxPooling2D\n",
    "# Creating a Sequential Model and adding the layers\n",
    "model = Sequential()\n",
    "model.add(Conv2D(28, kernel_size=(3,3), input_shape=input_shape))\n",
    "model.add(MaxPooling2D(pool_size=(2, 2)))\n",
    "model.add(Flatten()) # Flattening the 2D arrays for fully connected layers\n",
    "model.add(Dense(128, activation=tf.nn.relu))\n",
    "model.add(Dropout(0.2))\n",
    "model.add(Dense(10,activation=tf.nn.softmax))"
   ]
  },
  {
   "cell_type": "code",
   "execution_count": 37,
   "metadata": {},
   "outputs": [],
   "source": [
    "model.compile(optimizer='Adam', \n",
    "              loss='sparse_categorical_crossentropy', \n",
    "              metrics=['accuracy'])"
   ]
  },
  {
   "cell_type": "markdown",
   "metadata": {},
   "source": [
    "<h3>The model.fit function</h3>\n",
    "<p>trains the model for a fixed number of epochs (iterations on a dataset).</p>\n",
    "\n"
   ]
  },
  {
   "cell_type": "code",
   "execution_count": 38,
   "metadata": {},
   "outputs": [
    {
     "name": "stdout",
     "output_type": "stream",
     "text": [
      "Epoch 1/13\n",
      "60000/60000 [==============================] - 55s 917us/step - loss: 0.2025 - accuracy: 0.9391\n",
      "Epoch 2/13\n",
      "60000/60000 [==============================] - 57s 948us/step - loss: 0.0797 - accuracy: 0.9750\n",
      "Epoch 3/13\n",
      "60000/60000 [==============================] - 57s 957us/step - loss: 0.0546 - accuracy: 0.9826s - loss: 0.0\n",
      "Epoch 4/13\n",
      "60000/60000 [==============================] - 59s 976us/step - loss: 0.0447 - accuracy: 0.9856\n",
      "Epoch 5/13\n",
      "60000/60000 [==============================] - 54s 899us/step - loss: 0.0341 - accuracy: 0.9885\n",
      "Epoch 6/13\n",
      "60000/60000 [==============================] - 52s 863us/step - loss: 0.0282 - accuracy: 0.9907\n",
      "Epoch 7/13\n",
      "60000/60000 [==============================] - 52s 874us/step - loss: 0.0258 - accuracy: 0.9915\n",
      "Epoch 8/13\n",
      "60000/60000 [==============================] - 58s 968us/step - loss: 0.0213 - accuracy: 0.9929\n",
      "Epoch 9/13\n",
      "60000/60000 [==============================] - 57s 955us/step - loss: 0.0203 - accuracy: 0.9936\n",
      "Epoch 10/13\n",
      "60000/60000 [==============================] - ETA: 0s - loss: 0.0172 - accuracy: 0.99 - 58s 966us/step - loss: 0.0172 - accuracy: 0.9940\n",
      "Epoch 11/13\n",
      "60000/60000 [==============================] - 57s 943us/step - loss: 0.0180 - accuracy: 0.9940\n",
      "Epoch 12/13\n",
      "60000/60000 [==============================] - 56s 941us/step - loss: 0.0163 - accuracy: 0.9946\n",
      "Epoch 13/13\n",
      "60000/60000 [==============================] - 64s 1ms/step - loss: 0.0142 - accuracy: 0.9951\n"
     ]
    },
    {
     "data": {
      "text/plain": [
       "<keras.callbacks.callbacks.History at 0x184e886c9c8>"
      ]
     },
     "execution_count": 38,
     "metadata": {},
     "output_type": "execute_result"
    }
   ],
   "source": [
    "model.fit(x=x_train,y=y_train, epochs=13)"
   ]
  },
  {
   "cell_type": "markdown",
   "metadata": {},
   "source": [
    " <h3>Loss and Accuracy</h3>"
   ]
  },
  {
   "cell_type": "code",
   "execution_count": 39,
   "metadata": {},
   "outputs": [
    {
     "name": "stdout",
     "output_type": "stream",
     "text": [
      "Test loss: 6.76797 %\n",
      "Test accuracy: 98.57 %\n"
     ]
    }
   ],
   "source": [
    "score = model.evaluate(x_test, y_test, verbose=0)\n",
    "print(\"Test loss: %g %%\"%(score[0]*100))\n",
    "print(\"Test accuracy: %g %%\"%(score[1]*100))"
   ]
  },
  {
   "cell_type": "markdown",
   "metadata": {},
   "source": [
    " <h3>Individual prediction</h3>"
   ]
  },
  {
   "cell_type": "code",
   "execution_count": 40,
   "metadata": {},
   "outputs": [
    {
     "name": "stdout",
     "output_type": "stream",
     "text": [
      "2\n"
     ]
    },
    {
     "data": {
      "image/png": "[encoded data removed]",
      "text/plain": [
       "<Figure size 432x288 with 1 Axes>"
      ]
     },
     "metadata": {
      "needs_background": "light"
     },
     "output_type": "display_data"
    }
   ],
   "source": [
    "image_index = 421\n",
    "plt.imshow(x_test[image_index].reshape(28, 28),cmap='Greys')\n",
    "pred = model.predict(x_test[image_index].reshape(1, img_rows, img_cols, 1))\n",
    "print(pred.argmax())"
   ]
  },
  {
   "cell_type": "markdown",
   "metadata": {},
   "source": [
    "<H3>Save the model for later use</H3>"
   ]
  },
  {
   "cell_type": "code",
   "execution_count": 41,
   "metadata": {},
   "outputs": [],
   "source": [
    "model.save(\"model.h5\")"
   ]
  }
 ],
 "metadata": {
  "kernelspec": {
   "display_name": "Python 3",
   "language": "python",
   "name": "python3"
  },
  "language_info": {
   "codemirror_mode": {
    "name": "ipython",
    "version": 3
   },
   "file_extension": ".py",
   "mimetype": "text/x-python",
   "name": "python",
   "nbconvert_exporter": "python",
   "pygments_lexer": "ipython3",
   "version": "3.7.5"
  }
 },
 "nbformat": 4,
 "nbformat_minor": 2
}
